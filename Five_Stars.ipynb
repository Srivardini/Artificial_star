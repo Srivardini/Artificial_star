{
  "nbformat": 4,
  "nbformat_minor": 0,
  "metadata": {
    "colab": {
      "provenance": [],
      "authorship_tag": "ABX9TyMa9lgg7VDc6O9XJ7gRrR0M",
      "include_colab_link": true
    },
    "kernelspec": {
      "name": "python3",
      "display_name": "Python 3"
    },
    "language_info": {
      "name": "python"
    }
  },
  "cells": [
    {
      "cell_type": "markdown",
      "metadata": {
        "id": "view-in-github",
        "colab_type": "text"
      },
      "source": [
        "<a href=\"https://colab.research.google.com/github/Srivardini/Artificial_star/blob/main/Five_Stars.ipynb\" target=\"_parent\"><img src=\"https://colab.research.google.com/assets/colab-badge.svg\" alt=\"Open In Colab\"/></a>"
      ]
    },
    {
      "cell_type": "markdown",
      "source": [
        "#Import"
      ],
      "metadata": {
        "id": "SLey7WxPqN7c"
      }
    },
    {
      "cell_type": "code",
      "source": [
        "!pip install photutils"
      ],
      "metadata": {
        "colab": {
          "base_uri": "https://localhost:8080/"
        },
        "id": "d1DG4FZmhAS5",
        "outputId": "b874921e-413c-4f26-fff6-5824beeaffc1"
      },
      "execution_count": 4,
      "outputs": [
        {
          "output_type": "stream",
          "name": "stdout",
          "text": [
            "Looking in indexes: https://pypi.org/simple, https://us-python.pkg.dev/colab-wheels/public/simple/\n",
            "Requirement already satisfied: photutils in /usr/local/lib/python3.8/dist-packages (1.6.0)\n",
            "Requirement already satisfied: numpy>=1.20 in /usr/local/lib/python3.8/dist-packages (from photutils) (1.22.4)\n",
            "Requirement already satisfied: setuptools in /usr/local/lib/python3.8/dist-packages (from photutils) (57.4.0)\n",
            "Requirement already satisfied: astropy>=5.0 in /usr/local/lib/python3.8/dist-packages (from photutils) (5.2.1)\n",
            "Requirement already satisfied: PyYAML>=3.13 in /usr/local/lib/python3.8/dist-packages (from astropy>=5.0->photutils) (6.0)\n",
            "Requirement already satisfied: packaging>=19.0 in /usr/local/lib/python3.8/dist-packages (from astropy>=5.0->photutils) (23.0)\n",
            "Requirement already satisfied: pyerfa>=2.0 in /usr/local/lib/python3.8/dist-packages (from astropy>=5.0->photutils) (2.0.0.1)\n"
          ]
        }
      ]
    },
    {
      "cell_type": "code",
      "source": [
        "import os\n",
        "import sys"
      ],
      "metadata": {
        "id": "zdyHrzLcfri0"
      },
      "execution_count": 5,
      "outputs": []
    },
    {
      "cell_type": "code",
      "execution_count": 6,
      "metadata": {
        "id": "ZmilE748fa5t"
      },
      "outputs": [],
      "source": [
        "import numpy as np\n",
        "import matplotlib.pyplot as plt\n",
        "\n",
        "import astropy.units as u\n",
        "from astropy.table import Table\n",
        "from astropy.coordinates import SkyCoord\n",
        "from astropy.nddata import CCDData\n",
        " \n",
        "from photutils.datasets import make_gaussian_sources_image"
      ]
    },
    {
      "cell_type": "markdown",
      "source": [
        "#Five_Stars"
      ],
      "metadata": {
        "id": "03LsvbCKqR8A"
      }
    },
    {
      "cell_type": "code",
      "source": [
        "from photutils.datasets import make_random_gaussians_table, make_gaussian_sources_image\n",
        "\n",
        "#Table:\n",
        "shape = (500,500)\n",
        "n_sources = 5\n",
        "param_ranges = {'flux': [100, 1000],\n",
        "                    'x_mean': [50, 450],\n",
        "                    'y_mean': [50, 450],\n",
        "                    'x_stddev': [4, 4],\n",
        "                    'y_stddev': [4, 4],\n",
        "                    'theta': [0, np.pi]} \n",
        "sources = make_random_gaussians_table(n_sources, param_ranges, seed =12345)\n",
        "\n",
        "#make_image:\n",
        "\n",
        "stars_image = make_gaussian_sources_image(shape, sources)"
      ],
      "metadata": {
        "id": "k0MM7TpwhR4A"
      },
      "execution_count": 29,
      "outputs": []
    },
    {
      "cell_type": "code",
      "source": [
        "plt.imshow(stars_image, interpolation = 'nearest', cmap = 'gray')"
      ],
      "metadata": {
        "colab": {
          "base_uri": "https://localhost:8080/",
          "height": 286
        },
        "id": "llEXoqTUyv8E",
        "outputId": "cbcb6460-b8a6-4a5a-ed69-45e82d0fa479"
      },
      "execution_count": 30,
      "outputs": [
        {
          "output_type": "execute_result",
          "data": {
            "text/plain": [
              "<matplotlib.image.AxesImage at 0x7f8a6c406190>"
            ]
          },
          "metadata": {},
          "execution_count": 30
        },
        {
          "output_type": "display_data",
          "data": {
            "text/plain": [
              "<Figure size 432x288 with 1 Axes>"
            ],
            "image/png": "[encoded data removed]"
          },
          "metadata": {
            "needs_background": "light"
          }
        }
      ]
    },
    {
      "cell_type": "markdown",
      "source": [
        "#Stars_Detection"
      ],
      "metadata": {
        "id": "YSuWK9Tz2tDS"
      }
    },
    {
      "cell_type": "code",
      "source": [
        "from astropy.visualization import SqrtStretch\n",
        "from astropy.visualization.mpl_normalize import ImageNormalize\n",
        "from photutils.aperture import CircularAperture\n",
        "from photutils.detection import DAOStarFinder\n",
        "from astropy.stats import sigma_clipped_stats"
      ],
      "metadata": {
        "id": "iei91IIFtEd2"
      },
      "execution_count": 40,
      "outputs": []
    },
    {
      "cell_type": "code",
      "source": [
        "mean, median, std = sigma_clipped_stats(stars_image, sigma=4.0)  \n",
        "\n",
        "daofind = DAOStarFinder(fwhm=9.42, threshold=5.*std)  \n",
        "sources_stars = daofind(stars_image - median)  "
      ],
      "metadata": {
        "id": "_8TyhrI22sNu"
      },
      "execution_count": 41,
      "outputs": []
    },
    {
      "cell_type": "code",
      "source": [
        "mean,median,std"
      ],
      "metadata": {
        "colab": {
          "base_uri": "https://localhost:8080/"
        },
        "id": "-et-5-9gtimW",
        "outputId": "da654bba-dc07-4728-99cc-cd258695bcdb"
      },
      "execution_count": 48,
      "outputs": [
        {
          "output_type": "execute_result",
          "data": {
            "text/plain": [
              "(3.6532569332741285e-07, 3.3332283981690715e-116, 5.68855669186513e-06)"
            ]
          },
          "metadata": {},
          "execution_count": 48
        }
      ]
    },
    {
      "cell_type": "code",
      "source": [
        "sources_stars"
      ],
      "metadata": {
        "id": "Yk_W3tNAAULa",
        "colab": {
          "base_uri": "https://localhost:8080/",
          "height": 183
        },
        "outputId": "f731309b-7ae6-4e05-a0f3-2d9410d0deb8"
      },
      "execution_count": 47,
      "outputs": [
        {
          "output_type": "execute_result",
          "data": {
            "text/plain": [
              "<QTable length=5>\n",
              "  id      xcentroid      ...        flux                mag        \n",
              "int64      float64       ...      float64             float64      \n",
              "----- ------------------ ... ------------------ -------------------\n",
              "    1 319.10246862014986 ... 506007.71678382176 -14.260392850059365\n",
              "    2 183.12566549004703 ... 217865.64947082658 -13.345471902815312\n",
              "    3 426.72010472727226 ...  322633.4040457041 -13.771773325810372\n",
              "    4 124.69229240415176 ...  584802.3934487224  -14.41752285352809\n",
              "    5  289.3251300042621 ... 272817.64645708347 -13.589681145084606"
            ],
            "text/html": [
              "<div><i>QTable length=5</i>\n",
              "<table id=\"table140232500379360\" class=\"table-striped table-bordered table-condensed\">\n",
              "<thead><tr><th>id</th><th>xcentroid</th><th>ycentroid</th><th>sharpness</th><th>roundness1</th><th>roundness2</th><th>npix</th><th>sky</th><th>peak</th><th>flux</th><th>mag</th></tr></thead>\n",
              "<thead><tr><th>int64</th><th>float64</th><th>float64</th><th>float64</th><th>float64</th><th>float64</th><th>int64</th><th>float64</th><th>float64</th><th>float64</th><th>float64</th></tr></thead>\n",
              "<tr><td>1</td><td>319.10246862014986</td><td>88.36140614174538</td><td>0.403012408833352</td><td>0.006407362115180438</td><td>0.006054754525847967</td><td>169</td><td>0.0</td><td>7.018204259282074</td><td>506007.71678382176</td><td>-14.260392850059365</td></tr>\n",
              "<tr><td>2</td><td>183.12566549004703</td><td>149.29956134685176</td><td>0.4030872789680556</td><td>0.0059777093358876114</td><td>0.003737063394521297</td><td>169</td><td>0.0</td><td>3.020034914098044</td><td>217865.64947082658</td><td>-13.345471902815312</td></tr>\n",
              "<tr><td>3</td><td>426.72010472727226</td><td>226.73498191842506</td><td>0.4029951309339317</td><td>0.009968618039583696</td><td>-0.00040841590397565987</td><td>169</td><td>0.0</td><td>4.475432951389209</td><td>322633.4040457041</td><td>-13.771773325810372</td></tr>\n",
              "<tr><td>4</td><td>124.69229240415176</td><td>316.89492621266356</td><td>0.4030870139988804</td><td>0.0034307639079610487</td><td>-0.004227148717456516</td><td>169</td><td>0.0</td><td>8.106496513331308</td><td>584802.3934487224</td><td>-14.41752285352809</td></tr>\n",
              "<tr><td>5</td><td>289.3251300042621</td><td>429.54812707797146</td><td>0.40265558253410505</td><td>-0.018567336329319544</td><td>0.004903969346576798</td><td>169</td><td>0.0</td><td>3.7941572033312263</td><td>272817.64645708347</td><td>-13.589681145084606</td></tr>\n",
              "</table></div>"
            ]
          },
          "metadata": {},
          "execution_count": 47
        }
      ]
    },
    {
      "cell_type": "code",
      "source": [
        "positions = np.transpose((sources_stars['xcentroid'], sources_stars['ycentroid']))\n",
        "apertures = CircularAperture(positions, r=4.0)\n",
        "norm = ImageNormalize(stretch=SqrtStretch())\n",
        "plt.imshow(stars_image, cmap='Greys', origin='lower', norm=norm,\n",
        "           interpolation='nearest')\n",
        "apertures.plot(color='red', lw=1.5, alpha=0.5)"
      ],
      "metadata": {
        "colab": {
          "base_uri": "https://localhost:8080/",
          "height": 352
        },
        "id": "eDSlg5KRBgnE",
        "outputId": "48a4d135-39cb-4d6b-b904-c305e439b27c"
      },
      "execution_count": 43,
      "outputs": [
        {
          "output_type": "execute_result",
          "data": {
            "text/plain": [
              "[<matplotlib.patches.Circle at 0x7f8a6c39ea00>,\n",
              " <matplotlib.patches.Circle at 0x7f8a6c36cf10>,\n",
              " <matplotlib.patches.Circle at 0x7f8a6c37a040>,\n",
              " <matplotlib.patches.Circle at 0x7f8a6c37a130>,\n",
              " <matplotlib.patches.Circle at 0x7f8a6c37a220>]"
            ]
          },
          "metadata": {},
          "execution_count": 43
        },
        {
          "output_type": "display_data",
          "data": {
            "text/plain": [
              "<Figure size 432x288 with 1 Axes>"
            ],
            "image/png": "[encoded data removed]"
          },
          "metadata": {
            "needs_background": "light"
          }
        }
      ]
    },
    {
      "cell_type": "markdown",
      "source": [
        "#Aperture_Photometry"
      ],
      "metadata": {
        "id": "jyYGTUzsEwik"
      }
    },
    {
      "cell_type": "code",
      "source": [
        "from photutils.aperture import aperture_photometry\n",
        "\n",
        "photo_table = aperture_photometry(stars_image, apertures)\n",
        "photo_table"
      ],
      "metadata": {
        "colab": {
          "base_uri": "https://localhost:8080/",
          "height": 204
        },
        "id": "tI6siz6FEXLk",
        "outputId": "95b4ada1-0f0a-4f61-b07c-518febb6375c"
      },
      "execution_count": 45,
      "outputs": [
        {
          "output_type": "execute_result",
          "data": {
            "text/plain": [
              "<QTable length=5>\n",
              "  id       xcenter            ycenter          aperture_sum   \n",
              "             pix                pix                           \n",
              "int64      float64            float64            float64      \n",
              "----- ------------------ ------------------ ------------------\n",
              "    1 319.10246862014986  88.36140614174538  277.6746140561407\n",
              "    2 183.12566549004703 149.29956134685176  119.3350189811732\n",
              "    3 426.72010472727226 226.73498191842506 177.13041068793305\n",
              "    4 124.69229240415176 316.89492621266356  320.3239953283098\n",
              "    5  289.3251300042621 429.54812707797146  151.0353107435272"
            ],
            "text/html": [
              "<div><i>QTable length=5</i>\n",
              "<table id=\"table140232497351984\" class=\"table-striped table-bordered table-condensed\">\n",
              "<thead><tr><th>id</th><th>xcenter</th><th>ycenter</th><th>aperture_sum</th></tr></thead>\n",
              "<thead><tr><th></th><th>pix</th><th>pix</th><th></th></tr></thead>\n",
              "<thead><tr><th>int64</th><th>float64</th><th>float64</th><th>float64</th></tr></thead>\n",
              "<tr><td>1</td><td>319.10246862014986</td><td>88.36140614174538</td><td>277.6746140561407</td></tr>\n",
              "<tr><td>2</td><td>183.12566549004703</td><td>149.29956134685176</td><td>119.3350189811732</td></tr>\n",
              "<tr><td>3</td><td>426.72010472727226</td><td>226.73498191842506</td><td>177.13041068793305</td></tr>\n",
              "<tr><td>4</td><td>124.69229240415176</td><td>316.89492621266356</td><td>320.3239953283098</td></tr>\n",
              "<tr><td>5</td><td>289.3251300042621</td><td>429.54812707797146</td><td>151.0353107435272</td></tr>\n",
              "</table></div>"
            ]
          },
          "metadata": {},
          "execution_count": 45
        }
      ]
    }
  ]
}