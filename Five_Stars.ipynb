{
  "nbformat": 4,
  "nbformat_minor": 0,
  "metadata": {
    "colab": {
      "provenance": [],
      "authorship_tag": "ABX9TyOU9AogXCBoeS6oHmg97lbI",
      "include_colab_link": true
    },
    "kernelspec": {
      "name": "python3",
      "display_name": "Python 3"
    },
    "language_info": {
      "name": "python"
    }
  },
  "cells": [
    {
      "cell_type": "markdown",
      "metadata": {
        "id": "view-in-github",
        "colab_type": "text"
      },
      "source": [
        "<a href=\"https://colab.research.google.com/github/Srivardini/Artificial_star/blob/main/Five_Stars.ipynb\" target=\"_parent\"><img src=\"https://colab.research.google.com/assets/colab-badge.svg\" alt=\"Open In Colab\"/></a>"
      ]
    },
    {
      "cell_type": "markdown",
      "source": [
        "#Import"
      ],
      "metadata": {
        "id": "SLey7WxPqN7c"
      }
    },
    {
      "cell_type": "code",
      "source": [
        "!pip install photutils"
      ],
      "metadata": {
        "colab": {
          "base_uri": "https://localhost:8080/"
        },
        "id": "d1DG4FZmhAS5",
        "outputId": "18d76ee7-ce04-4933-bc2a-2bf35111d1dc"
      },
      "execution_count": 1,
      "outputs": [
        {
          "output_type": "stream",
          "name": "stdout",
          "text": [
            "Looking in indexes: https://pypi.org/simple, https://us-python.pkg.dev/colab-wheels/public/simple/\n",
            "Collecting photutils\n",
            "  Downloading photutils-1.6.0-cp38-cp38-manylinux_2_5_x86_64.manylinux1_x86_64.manylinux_2_17_x86_64.manylinux2014_x86_64.whl (873 kB)\n",
            "\u001b[2K     \u001b[90m━━━━━━━━━━━━━━━━━━━━━━━━━━━━━━━━━━━━━━\u001b[0m \u001b[32m873.9/873.9 KB\u001b[0m \u001b[31m34.1 MB/s\u001b[0m eta \u001b[36m0:00:00\u001b[0m\n",
            "\u001b[?25hRequirement already satisfied: setuptools in /usr/local/lib/python3.8/dist-packages (from photutils) (57.4.0)\n",
            "Collecting astropy>=5.0\n",
            "  Downloading astropy-5.2.1-cp38-cp38-manylinux_2_12_x86_64.manylinux2010_x86_64.whl (11.4 MB)\n",
            "\u001b[2K     \u001b[90m━━━━━━━━━━━━━━━━━━━━━━━━━━━━━━━━━━━━━━━\u001b[0m \u001b[32m11.4/11.4 MB\u001b[0m \u001b[31m107.2 MB/s\u001b[0m eta \u001b[36m0:00:00\u001b[0m\n",
            "\u001b[?25hRequirement already satisfied: numpy>=1.20 in /usr/local/lib/python3.8/dist-packages (from photutils) (1.22.4)\n",
            "Requirement already satisfied: pyerfa>=2.0 in /usr/local/lib/python3.8/dist-packages (from astropy>=5.0->photutils) (2.0.0.1)\n",
            "Requirement already satisfied: PyYAML>=3.13 in /usr/local/lib/python3.8/dist-packages (from astropy>=5.0->photutils) (6.0)\n",
            "Requirement already satisfied: packaging>=19.0 in /usr/local/lib/python3.8/dist-packages (from astropy>=5.0->photutils) (23.0)\n",
            "Installing collected packages: astropy, photutils\n",
            "  Attempting uninstall: astropy\n",
            "    Found existing installation: astropy 4.3.1\n",
            "    Uninstalling astropy-4.3.1:\n",
            "      Successfully uninstalled astropy-4.3.1\n",
            "Successfully installed astropy-5.2.1 photutils-1.6.0\n"
          ]
        }
      ]
    },
    {
      "cell_type": "code",
      "source": [
        "import os\n",
        "import sys"
      ],
      "metadata": {
        "id": "zdyHrzLcfri0"
      },
      "execution_count": 2,
      "outputs": []
    },
    {
      "cell_type": "code",
      "execution_count": 3,
      "metadata": {
        "id": "ZmilE748fa5t"
      },
      "outputs": [],
      "source": [
        "import numpy as np\n",
        "import matplotlib.pyplot as plt\n",
        "\n",
        "import astropy.units as u\n",
        "from astropy.table import Table\n",
        "from astropy.coordinates import SkyCoord\n",
        "from astropy.nddata import CCDData\n",
        " \n",
        "from photutils.datasets import make_gaussian_sources_image"
      ]
    },
    {
      "cell_type": "markdown",
      "source": [
        "#Five_Stars"
      ],
      "metadata": {
        "id": "03LsvbCKqR8A"
      }
    },
    {
      "cell_type": "code",
      "source": [
        "from photutils.datasets import make_random_gaussians_table, make_gaussian_sources_image\n",
        "\n",
        "#Table:\n",
        "shape = (500,500)\n",
        "n_sources = 5\n",
        "param_ranges = {'amplitude': [100, 1000],\n",
        "                    'x_mean': [50, 450],\n",
        "                    'y_mean': [50, 450],\n",
        "                    'x_stddev': [4, 4],\n",
        "                    'y_stddev': [4, 4],\n",
        "                    'theta': [0, np.pi]} \n",
        "sources = make_random_gaussians_table(n_sources, param_ranges, seed =12345)\n",
        "\n",
        "#make_image:\n",
        "\n",
        "stars_image = make_gaussian_sources_image(shape, sources)"
      ],
      "metadata": {
        "id": "k0MM7TpwhR4A"
      },
      "execution_count": 49,
      "outputs": []
    },
    {
      "cell_type": "code",
      "source": [
        "print(stars_image)"
      ],
      "metadata": {
        "colab": {
          "base_uri": "https://localhost:8080/"
        },
        "id": "AYxMKs0yFxNx",
        "outputId": "75cde52b-afd0-4af7-eaac-432210140bd9"
      },
      "execution_count": 70,
      "outputs": [
        {
          "output_type": "stream",
          "name": "stdout",
          "text": [
            "[[0. 0. 0. ... 0. 0. 0.]\n",
            " [0. 0. 0. ... 0. 0. 0.]\n",
            " [0. 0. 0. ... 0. 0. 0.]\n",
            " ...\n",
            " [0. 0. 0. ... 0. 0. 0.]\n",
            " [0. 0. 0. ... 0. 0. 0.]\n",
            " [0. 0. 0. ... 0. 0. 0.]]\n"
          ]
        }
      ]
    },
    {
      "cell_type": "code",
      "source": [
        "print(sources)"
      ],
      "metadata": {
        "id": "AaU4EaIkiEbc",
        "colab": {
          "base_uri": "https://localhost:8080/"
        },
        "outputId": "c9fedccb-c2a4-4bd3-dd79-2030b42f53f0"
      },
      "execution_count": 50,
      "outputs": [
        {
          "output_type": "stream",
          "name": "stdout",
          "text": [
            "    amplitude            x_mean       ... y_stddev        theta       \n",
            "------------------ ------------------ ... -------- -------------------\n",
            " 304.6024202204527 183.12557114655382 ...      4.0   2.562837155971277\n",
            "385.08250573877757 289.32350143487594 ...      4.0  0.6072522333720015\n",
            " 817.6289115994607 124.69367424148534 ...      4.0  0.4067390985853497\n",
            " 708.6292036758771 319.10241760584853 ...      4.0 0.28797331004670434\n",
            " 451.9985955417181 426.72114610797485 ...      4.0  1.8804568744035262\n"
          ]
        }
      ]
    },
    {
      "cell_type": "code",
      "source": [
        "plt.imshow(stars_image, interpolation = 'nearest', cmap = 'gray')"
      ],
      "metadata": {
        "colab": {
          "base_uri": "https://localhost:8080/",
          "height": 286
        },
        "id": "llEXoqTUyv8E",
        "outputId": "cd1e2995-3364-40b9-cce6-52b3c7a7e13c"
      },
      "execution_count": 51,
      "outputs": [
        {
          "output_type": "execute_result",
          "data": {
            "text/plain": [
              "<matplotlib.image.AxesImage at 0x7f0ef1347130>"
            ]
          },
          "metadata": {},
          "execution_count": 51
        },
        {
          "output_type": "display_data",
          "data": {
            "text/plain": [
              "<Figure size 432x288 with 1 Axes>"
            ],
            "image/png": "[encoded data removed]"
          },
          "metadata": {
            "needs_background": "light"
          }
        }
      ]
    },
    {
      "cell_type": "markdown",
      "source": [
        "#Stars_Detection"
      ],
      "metadata": {
        "id": "YSuWK9Tz2tDS"
      }
    },
    {
      "cell_type": "code",
      "source": [
        "from photutils.detection import DAOStarFinder"
      ],
      "metadata": {
        "id": "_8TyhrI22sNu"
      },
      "execution_count": 52,
      "outputs": []
    },
    {
      "cell_type": "code",
      "source": [
        "from astropy.stats import sigma_clipped_stats\n"
      ],
      "metadata": {
        "id": "Yk_W3tNAAULa"
      },
      "execution_count": 53,
      "outputs": []
    },
    {
      "cell_type": "code",
      "source": [
        "mean, median, std = sigma_clipped_stats(stars_image, sigma=3.0)  \n"
      ],
      "metadata": {
        "id": "9EKmww12Awe0"
      },
      "execution_count": 55,
      "outputs": []
    },
    {
      "cell_type": "code",
      "source": [
        "print((mean,median,std))"
      ],
      "metadata": {
        "colab": {
          "base_uri": "https://localhost:8080/"
        },
        "id": "MqjCSv-LA6Ug",
        "outputId": "26006796-296a-47e6-9e58-4ed1f0a49911"
      },
      "execution_count": 56,
      "outputs": [
        {
          "output_type": "stream",
          "name": "stdout",
          "text": [
            "(9.037163570989198e-06, 1.2623409916676425e-114, 0.00014035932344776692)\n"
          ]
        }
      ]
    },
    {
      "cell_type": "code",
      "source": [
        "daofind = DAOStarFinder(fwhm=3.0, threshold=5.*std)  \n",
        "sources_stars = daofind(stars_image - median)  "
      ],
      "metadata": {
        "id": "JWiUWHoQBMmt"
      },
      "execution_count": 57,
      "outputs": []
    },
    {
      "cell_type": "code",
      "source": [
        "print(sources_stars)"
      ],
      "metadata": {
        "colab": {
          "base_uri": "https://localhost:8080/"
        },
        "id": "D8bBtEOGBRQ8",
        "outputId": "722e4dab-2116-4d86-f284-6951710941aa"
      },
      "execution_count": 58,
      "outputs": [
        {
          "output_type": "stream",
          "name": "stdout",
          "text": [
            " id     xcentroid      ...        flux               mag        \n",
            "--- ------------------ ... ----------------- -------------------\n",
            "  1  319.1077089013898 ... 139683.7092490895 -12.862864397608755\n",
            "  2 183.13210058749738 ...  60168.9654441602 -11.948431360549186\n",
            "  3 426.70554803703214 ... 89053.91652979588 -12.374132560477246\n",
            "  4 124.67622516126194 ...  161507.324474721 -13.020480556711506\n",
            "  5  289.3421526250417 ... 75150.24018806573  -12.18982593243988\n"
          ]
        }
      ]
    },
    {
      "cell_type": "code",
      "source": [
        "from astropy.visualization import SqrtStretch\n",
        "from astropy.visualization.mpl_normalize import ImageNormalize\n",
        "from photutils.aperture import CircularAperture"
      ],
      "metadata": {
        "id": "pUcCWumeBVjD"
      },
      "execution_count": 59,
      "outputs": []
    },
    {
      "cell_type": "code",
      "source": [
        "positions = np.transpose((sources_stars['xcentroid'], sources_stars['ycentroid']))\n",
        "apertures = CircularAperture(positions, r=4.0)\n",
        "norm = ImageNormalize(stretch=SqrtStretch())\n",
        "plt.imshow(stars_image, cmap='Greys', origin='lower', norm=norm,\n",
        "           interpolation='nearest')\n",
        "apertures.plot(color='red', lw=1.5, alpha=0.5)"
      ],
      "metadata": {
        "colab": {
          "base_uri": "https://localhost:8080/",
          "height": 352
        },
        "id": "eDSlg5KRBgnE",
        "outputId": "23cc1864-19be-49ac-bcb0-6467b03477f0"
      },
      "execution_count": 66,
      "outputs": [
        {
          "output_type": "execute_result",
          "data": {
            "text/plain": [
              "[<matplotlib.patches.Circle at 0x7f0ef114d1c0>,\n",
              " <matplotlib.patches.Circle at 0x7f0ef110db50>,\n",
              " <matplotlib.patches.Circle at 0x7f0ef110dc40>,\n",
              " <matplotlib.patches.Circle at 0x7f0ef110dd30>,\n",
              " <matplotlib.patches.Circle at 0x7f0ef110de20>]"
            ]
          },
          "metadata": {},
          "execution_count": 66
        },
        {
          "output_type": "display_data",
          "data": {
            "text/plain": [
              "<Figure size 432x288 with 1 Axes>"
            ],
            "image/png": "[encoded data removed]"
          },
          "metadata": {
            "needs_background": "light"
          }
        }
      ]
    },
    {
      "cell_type": "markdown",
      "source": [
        "#Aperture_Photometry"
      ],
      "metadata": {
        "id": "jyYGTUzsEwik"
      }
    },
    {
      "cell_type": "code",
      "source": [
        "from photutils.aperture import aperture_photometry\n",
        "\n",
        "photo_table = aperture_photometry(stars_image, apertures)\n",
        "print(photo_table)"
      ],
      "metadata": {
        "colab": {
          "base_uri": "https://localhost:8080/"
        },
        "id": "tI6siz6FEXLk",
        "outputId": "1f097f3b-291f-4815-b98c-4f2fd4c98ef1"
      },
      "execution_count": 118,
      "outputs": [
        {
          "output_type": "stream",
          "name": "stdout",
          "text": [
            " id      xcenter            ycenter          aperture_sum   \n",
            "           pix                pix                           \n",
            "--- ------------------ ------------------ ------------------\n",
            "  1  319.1077089013898  88.38044252932129 27916.775732809485\n",
            "  2 183.13210058749738 149.31518434357142 11997.559326797633\n",
            "  3 426.70554803703214 226.72122636422128 17808.588963430095\n",
            "  4 124.67622516126194  316.8895519742775  32204.31233212069\n",
            "  5  289.3421526250417 429.52390407604577 15185.387185555093\n"
          ]
        }
      ]
    }
  ]
}