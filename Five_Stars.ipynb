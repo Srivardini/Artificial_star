{
  "nbformat": 4,
  "nbformat_minor": 0,
  "metadata": {
    "colab": {
      "provenance": [],
      "collapsed_sections": [
        "SLey7WxPqN7c",
        "03LsvbCKqR8A"
      ],
      "include_colab_link": true
    },
    "kernelspec": {
      "name": "python3",
      "display_name": "Python 3"
    },
    "language_info": {
      "name": "python"
    }
  },
  "cells": [
    {
      "cell_type": "markdown",
      "metadata": {
        "id": "view-in-github",
        "colab_type": "text"
      },
      "source": [
        "<a href=\"https://colab.research.google.com/github/Srivardini/Artificial_star/blob/main/Five_Stars.ipynb\" target=\"_parent\"><img src=\"https://colab.research.google.com/assets/colab-badge.svg\" alt=\"Open In Colab\"/></a>"
      ]
    },
    {
      "cell_type": "markdown",
      "source": [
        "#Import"
      ],
      "metadata": {
        "id": "SLey7WxPqN7c"
      }
    },
    {
      "cell_type": "code",
      "source": [
        "!pip install photutils"
      ],
      "metadata": {
        "colab": {
          "base_uri": "https://localhost:8080/"
        },
        "id": "d1DG4FZmhAS5",
        "outputId": "b441abbe-44bf-4b1b-ae04-f60259f95e9b"
      },
      "execution_count": 41,
      "outputs": [
        {
          "output_type": "stream",
          "name": "stdout",
          "text": [
            "Looking in indexes: https://pypi.org/simple, https://us-python.pkg.dev/colab-wheels/public/simple/\n",
            "Requirement already satisfied: photutils in /usr/local/lib/python3.9/dist-packages (1.6.0)\n",
            "Requirement already satisfied: numpy>=1.20 in /usr/local/lib/python3.9/dist-packages (from photutils) (1.22.4)\n",
            "Requirement already satisfied: astropy>=5.0 in /usr/local/lib/python3.9/dist-packages (from photutils) (5.2.1)\n",
            "Requirement already satisfied: setuptools in /usr/local/lib/python3.9/dist-packages (from photutils) (57.4.0)\n",
            "Requirement already satisfied: PyYAML>=3.13 in /usr/local/lib/python3.9/dist-packages (from astropy>=5.0->photutils) (6.0)\n",
            "Requirement already satisfied: pyerfa>=2.0 in /usr/local/lib/python3.9/dist-packages (from astropy>=5.0->photutils) (2.0.0.1)\n",
            "Requirement already satisfied: packaging>=19.0 in /usr/local/lib/python3.9/dist-packages (from astropy>=5.0->photutils) (23.0)\n"
          ]
        }
      ]
    },
    {
      "cell_type": "code",
      "source": [
        "import os\n",
        "import sys"
      ],
      "metadata": {
        "id": "zdyHrzLcfri0"
      },
      "execution_count": 42,
      "outputs": []
    },
    {
      "cell_type": "code",
      "execution_count": 43,
      "metadata": {
        "id": "ZmilE748fa5t"
      },
      "outputs": [],
      "source": [
        "import numpy as np\n",
        "import matplotlib.pyplot as plt\n",
        "\n",
        "import astropy.units as u\n",
        "from astropy.table import Table\n",
        "from astropy.coordinates import SkyCoord\n",
        "from astropy.nddata import CCDData\n",
        "from astropy.visualization import SqrtStretch\n",
        "from astropy.visualization.mpl_normalize import ImageNormalize\n",
        " \n",
        "from photutils.datasets import make_gaussian_sources_image"
      ]
    },
    {
      "cell_type": "markdown",
      "source": [
        "#Five_Stars"
      ],
      "metadata": {
        "id": "03LsvbCKqR8A"
      }
    },
    {
      "cell_type": "code",
      "source": [
        "from photutils.datasets import make_random_gaussians_table, make_gaussian_sources_image\n",
        "\n",
        "#Table:\n",
        "shape = (500,500)\n",
        "n_sources = 5\n",
        "param_ranges = {'flux': [100, 1000],\n",
        "                    'x_mean': [50, 450],\n",
        "                    'y_mean': [50, 450],\n",
        "                    'x_stddev': [3,3],\n",
        "                    'y_stddev': [3,3],\n",
        "                    'theta': [0, np.pi]} \n",
        "sources = make_random_gaussians_table(n_sources, param_ranges, seed =12345)\n",
        "\n",
        "#make_image:\n",
        "\n",
        "stars_image = make_gaussian_sources_image(shape, sources)"
      ],
      "metadata": {
        "id": "k0MM7TpwhR4A"
      },
      "execution_count": 44,
      "outputs": []
    },
    {
      "cell_type": "code",
      "source": [
        "plt.imshow(stars_image, interpolation = 'nearest', cmap = 'gray')"
      ],
      "metadata": {
        "colab": {
          "base_uri": "https://localhost:8080/",
          "height": 0
        },
        "id": "llEXoqTUyv8E",
        "outputId": "15a99870-f5d1-43f6-85b1-4ad61764a44b"
      },
      "execution_count": 45,
      "outputs": [
        {
          "output_type": "execute_result",
          "data": {
            "text/plain": [
              "<matplotlib.image.AxesImage at 0x7fe2729b8880>"
            ]
          },
          "metadata": {},
          "execution_count": 45
        },
        {
          "output_type": "display_data",
          "data": {
            "text/plain": [
              "<Figure size 432x288 with 1 Axes>"
            ],
            "image/png": "[encoded data removed]"
          },
          "metadata": {
            "needs_background": "light"
          }
        }
      ]
    },
    {
      "cell_type": "markdown",
      "source": [
        "#Stars_Detection"
      ],
      "metadata": {
        "id": "YSuWK9Tz2tDS"
      }
    },
    {
      "cell_type": "code",
      "source": [
        "from photutils.detection import DAOStarFinder\n",
        "from astropy.stats import sigma_clipped_stats"
      ],
      "metadata": {
        "id": "iei91IIFtEd2"
      },
      "execution_count": 46,
      "outputs": []
    },
    {
      "cell_type": "code",
      "source": [
        "mean, median, std = sigma_clipped_stats(stars_image, sigma=3.0)  \n",
        "\n",
        "daofind = DAOStarFinder(fwhm=9.42, threshold=5.*std)  \n",
        "sources_stars = daofind(stars_image - median)  "
      ],
      "metadata": {
        "id": "_8TyhrI22sNu"
      },
      "execution_count": 47,
      "outputs": []
    },
    {
      "cell_type": "code",
      "source": [
        "sources_stars"
      ],
      "metadata": {
        "id": "Yk_W3tNAAULa",
        "colab": {
          "base_uri": "https://localhost:8080/",
          "height": 183
        },
        "outputId": "b17a8bce-9bac-4bae-9a79-0e189f1f8fb9"
      },
      "execution_count": 48,
      "outputs": [
        {
          "output_type": "execute_result",
          "data": {
            "text/plain": [
              "<QTable length=5>\n",
              "  id      xcentroid      ...        flux                mag        \n",
              "int64      float64       ...      float64             float64      \n",
              "----- ------------------ ... ------------------ -------------------\n",
              "    1  319.1005319265878 ... 13832636.619499626 -17.852262420656974\n",
              "    2  183.1233049597628 ... 5960051.7862500055 -16.938125083236876\n",
              "    3  426.7249788384287 ...  8818293.091813862  -17.36346132321887\n",
              "    4 124.69754089860425 ...  15998133.93477067 -18.010173320843712\n",
              "    5  289.3196626593726 ...  7432279.002169959 -17.177805010950415"
            ],
            "text/html": [
              "<div><i>QTable length=5</i>\n",
              "<table id=\"table140610562321376\" class=\"table-striped table-bordered table-condensed\">\n",
              "<thead><tr><th>id</th><th>xcentroid</th><th>ycentroid</th><th>sharpness</th><th>roundness1</th><th>roundness2</th><th>npix</th><th>sky</th><th>peak</th><th>flux</th><th>mag</th></tr></thead>\n",
              "<thead><tr><th>int64</th><th>float64</th><th>float64</th><th>float64</th><th>float64</th><th>float64</th><th>int64</th><th>float64</th><th>float64</th><th>float64</th><th>float64</th></tr></thead>\n",
              "<tr><td>1</td><td>319.1005319265878</td><td>88.35552525812568</td><td>0.4589147275081971</td><td>0.010716845854935346</td><td>0.009097430460255398</td><td>169</td><td>0.0</td><td>12.434576394533671</td><td>13832636.619499626</td><td>-17.852262420656974</td></tr>\n",
              "<tr><td>2</td><td>183.1233049597628</td><td>149.29441941132228</td><td>0.4591782217393015</td><td>0.00985383806461007</td><td>0.005613071030960291</td><td>169</td><td>0.0</td><td>5.355299926514062</td><td>5960051.7862500055</td><td>-16.938125083236876</td></tr>\n",
              "<tr><td>3</td><td>426.7249788384287</td><td>226.7396439565466</td><td>0.45885396542757634</td><td>0.015914659802203007</td><td>-0.0006137062650336373</td><td>169</td><td>0.0</td><td>7.927847324457312</td><td>8818293.091813862</td><td>-17.36346132321887</td></tr>\n",
              "<tr><td>4</td><td>124.69754089860425</td><td>316.89691089806433</td><td>0.4591772858554946</td><td>0.00516667241784081</td><td>-0.006349186536524394</td><td>169</td><td>0.0</td><td>14.374864147851907</td><td>15998133.93477067</td><td>-18.010173320843712</td></tr>\n",
              "<tr><td>5</td><td>289.3196626593726</td><td>429.55475605595046</td><td>0.45765994327475157</td><td>-0.02928596043226883</td><td>0.0073807481279563655</td><td>169</td><td>0.0</td><td>6.695359021377085</td><td>7432279.002169959</td><td>-17.177805010950415</td></tr>\n",
              "</table></div>"
            ]
          },
          "metadata": {},
          "execution_count": 48
        }
      ]
    },
    {
      "cell_type": "markdown",
      "source": [
        "#Aperture_Photometry"
      ],
      "metadata": {
        "id": "jyYGTUzsEwik"
      }
    },
    {
      "cell_type": "code",
      "source": [
        "from photutils.aperture import CircularAperture"
      ],
      "metadata": {
        "id": "iU9V5eKy52F8"
      },
      "execution_count": 35,
      "outputs": []
    },
    {
      "cell_type": "code",
      "source": [
        "positions = np.transpose((sources_stars['xcentroid'], sources_stars['ycentroid']))\n",
        "apertures = CircularAperture(positions, r=3.0)\n",
        "norm = ImageNormalize(stretch=SqrtStretch())\n",
        "plt.imshow(stars_image, cmap='Greys', origin='lower', norm=norm,\n",
        "           interpolation='nearest')\n",
        "apertures.plot(color='red', lw=1.5, alpha=0.5)"
      ],
      "metadata": {
        "colab": {
          "base_uri": "https://localhost:8080/",
          "height": 352
        },
        "id": "Px2P6gAf6qRa",
        "outputId": "7a8e29e9-b741-48b2-fe21-09fc3c4f5bfe"
      },
      "execution_count": 39,
      "outputs": [
        {
          "output_type": "execute_result",
          "data": {
            "text/plain": [
              "[<matplotlib.patches.Circle at 0x7fe272a4acd0>,\n",
              " <matplotlib.patches.Circle at 0x7fe272a4adc0>,\n",
              " <matplotlib.patches.Circle at 0x7fe272a4aeb0>,\n",
              " <matplotlib.patches.Circle at 0x7fe272a4afa0>,\n",
              " <matplotlib.patches.Circle at 0x7fe272a580d0>]"
            ]
          },
          "metadata": {},
          "execution_count": 39
        },
        {
          "output_type": "display_data",
          "data": {
            "text/plain": [
              "<Figure size 432x288 with 1 Axes>"
            ],
            "image/png": "[encoded data removed]"
          },
          "metadata": {
            "needs_background": "light"
          }
        }
      ]
    },
    {
      "cell_type": "code",
      "source": [
        "from photutils.aperture import aperture_photometry\n",
        "\n",
        "photo_table = aperture_photometry(stars_image, apertures)\n",
        "photo_table"
      ],
      "metadata": {
        "colab": {
          "base_uri": "https://localhost:8080/",
          "height": 204
        },
        "id": "HRRqGrqr60UP",
        "outputId": "1df36b5b-e102-4a36-81f8-3e2261484158"
      },
      "execution_count": 40,
      "outputs": [
        {
          "output_type": "execute_result",
          "data": {
            "text/plain": [
              "<QTable length=5>\n",
              "  id       xcenter            ycenter          aperture_sum   \n",
              "             pix                pix                           \n",
              "int64      float64            float64            float64      \n",
              "----- ------------------ ------------------ ------------------\n",
              "    1  319.1005319265878  88.35552525812568  276.7676360194589\n",
              "    2  183.1233049597628 149.29441941132228 118.91925503387498\n",
              "    3  426.7249788384287  226.7396439565466  176.5637360135529\n",
              "    4 124.69754089860425 316.89691089806433   319.208388609508\n",
              "    5  289.3196626593726 429.55475605595046 150.68298850764864"
            ],
            "text/html": [
              "<div><i>QTable length=5</i>\n",
              "<table id=\"table140610562390096\" class=\"table-striped table-bordered table-condensed\">\n",
              "<thead><tr><th>id</th><th>xcenter</th><th>ycenter</th><th>aperture_sum</th></tr></thead>\n",
              "<thead><tr><th></th><th>pix</th><th>pix</th><th></th></tr></thead>\n",
              "<thead><tr><th>int64</th><th>float64</th><th>float64</th><th>float64</th></tr></thead>\n",
              "<tr><td>1</td><td>319.1005319265878</td><td>88.35552525812568</td><td>276.7676360194589</td></tr>\n",
              "<tr><td>2</td><td>183.1233049597628</td><td>149.29441941132228</td><td>118.91925503387498</td></tr>\n",
              "<tr><td>3</td><td>426.7249788384287</td><td>226.7396439565466</td><td>176.5637360135529</td></tr>\n",
              "<tr><td>4</td><td>124.69754089860425</td><td>316.89691089806433</td><td>319.208388609508</td></tr>\n",
              "<tr><td>5</td><td>289.3196626593726</td><td>429.55475605595046</td><td>150.68298850764864</td></tr>\n",
              "</table></div>"
            ]
          },
          "metadata": {},
          "execution_count": 40
        }
      ]
    }
  ]
}